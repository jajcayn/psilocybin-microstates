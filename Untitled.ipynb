{
 "cells": [
  {
   "cell_type": "code",
   "execution_count": 74,
   "metadata": {},
   "outputs": [
    {
     "name": "stdout",
     "output_type": "stream",
     "text": [
      "The autoreload extension is already loaded. To reload it, use:\n",
      "  %reload_ext autoreload\n"
     ]
    }
   ],
   "source": [
    "%load_ext autoreload\n",
    "%autoreload 2\n",
    "%matplotlib inline\n",
    "\n",
    "from itertools import permutations\n",
    "\n",
    "import matplotlib.pyplot as plt\n",
    "import numpy as np\n",
    "import pandas as pd\n",
    "\n",
    "from src.microstates import (\n",
    "    _corr_vectors,\n",
    "    load_Koenig_microstate_templates,\n",
    "    plot_microstate_maps,\n",
    "    segment,\n",
    ")\n",
    "from src.recording import PsilocybinRecording"
   ]
  },
  {
   "cell_type": "code",
   "execution_count": 75,
   "metadata": {},
   "outputs": [],
   "source": [
    "eff = pd.read_excel(\n",
    "    \"../data/experience_data/Persisting effects scale.xlsx\", sheet_name=None\n",
    ")"
   ]
  },
  {
   "cell_type": "code",
   "execution_count": 76,
   "metadata": {},
   "outputs": [],
   "source": [
    "proc_psi = pd.DataFrame()\n",
    "proc_pla = pd.DataFrame()\n",
    "SUMS_COL_NUM = slice(148, 160)\n",
    "rename_cols = [\n",
    "    \"Attidues about Life positive\",\n",
    "    \"Attidues about Life negative\",\n",
    "    \"Attitudes about Self positive\",\n",
    "    \"Attitudes about Self negative\",\n",
    "    \"Mood Changes positive\",\n",
    "    \"Mood Changes negative\",\n",
    "    \"Relationships positive\",\n",
    "    \"Relationships negative\",\n",
    "    \"Behavioral Changes positive\",\n",
    "    \"Behavioral Changes negative\",\n",
    "    \"Spirituality positive\",\n",
    "    \"Spirituality negative\",\n",
    "]\n",
    "\n",
    "proc_psi[[\"group\", \"subject\"]] = eff[\"PSI\"][\"KOD \"].str.split(\"-\", expand=True)\n",
    "proc_psi[\"order\"] = eff[\"PSI\"][\"měření EEG_A/EEG_B MRI_A/MRI_B \"]\n",
    "proc_psi[rename_cols] = eff[\"PSI\"].iloc[:, SUMS_COL_NUM]\n",
    "proc_psi = proc_psi.dropna()\n",
    "proc_psi[\"subject\"] = proc_psi[\"subject\"].astype(int)"
   ]
  },
  {
   "cell_type": "code",
   "execution_count": 77,
   "metadata": {},
   "outputs": [],
   "source": [
    "proc_pla[[\"group\", \"subject\"]] = eff[\"PLACEBO\"][\"KOD \"].str.split(\"-\", expand=True)\n",
    "proc_pla[\"group\"] = \"PLA\"\n",
    "proc_pla[\"order\"] = eff[\"PLACEBO\"][\"měření EEG_A/EEG_B MRI_A/MRI_B \"]\n",
    "proc_pla[rename_cols] = eff[\"PLACEBO\"].iloc[:, SUMS_COL_NUM]\n",
    "proc_pla = proc_pla.dropna()\n",
    "proc_pla[\"subject\"] = proc_pla[\"subject\"].astype(int)"
   ]
  },
  {
   "cell_type": "code",
   "execution_count": 78,
   "metadata": {},
   "outputs": [],
   "source": [
    "proc = pd.concat([proc_pla, proc_psi], axis=0)"
   ]
  },
  {
   "cell_type": "code",
   "execution_count": 79,
   "metadata": {},
   "outputs": [],
   "source": [
    "proc.to_csv(\"../data/experience_data/persisting_effects_scale_processed.csv\", index=None)"
   ]
  },
  {
   "cell_type": "code",
   "execution_count": null,
   "metadata": {},
   "outputs": [],
   "source": []
  }
 ],
 "metadata": {
  "kernelspec": {
   "display_name": "Python 3",
   "language": "python",
   "name": "python3"
  },
  "language_info": {
   "codemirror_mode": {
    "name": "ipython",
    "version": 3
   },
   "file_extension": ".py",
   "mimetype": "text/x-python",
   "name": "python",
   "nbconvert_exporter": "python",
   "pygments_lexer": "ipython3",
   "version": "3.7.9"
  }
 },
 "nbformat": 4,
 "nbformat_minor": 4
}
